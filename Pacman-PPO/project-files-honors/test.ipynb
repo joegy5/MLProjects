{
 "cells": [
  {
   "cell_type": "code",
   "execution_count": 4,
   "id": "9b7d5071",
   "metadata": {},
   "outputs": [
    {
     "name": "stdout",
     "output_type": "stream",
     "text": [
      "[1]\n"
     ]
    }
   ],
   "source": [
    "x = 1\n",
    "inputs = []\n",
    "inputs.append(int(x == 2 - 1))\n",
    "print(inputs)"
   ]
  },
  {
   "cell_type": "code",
   "execution_count": null,
   "id": "038174e0",
   "metadata": {},
   "outputs": [
    {
     "name": "stdout",
     "output_type": "stream",
     "text": [
      "(1, 2, 1, 2)\n",
      "True\n"
     ]
    }
   ],
   "source": [
    "x = (1, 2)\n",
    "y = (1, 2)\n",
    "print(x + y)\n",
    "print(x == y)\n"
   ]
  },
  {
   "cell_type": "code",
   "execution_count": null,
   "id": "a31bf5f8",
   "metadata": {},
   "outputs": [
    {
     "name": "stdout",
     "output_type": "stream",
     "text": [
      "0\n"
     ]
    },
    {
     "ename": "",
     "evalue": "",
     "output_type": "error",
     "traceback": [
      "\u001b[1;31mThe Kernel crashed while executing code in the current cell or a previous cell. \n",
      "\u001b[1;31mPlease review the code in the cell(s) to identify a possible cause of the failure. \n",
      "\u001b[1;31mClick <a href='https://aka.ms/vscodeJupyterKernelCrash'>here</a> for more info. \n",
      "\u001b[1;31mView Jupyter <a href='command:jupyter.viewOutput'>log</a> for further details."
     ]
    }
   ],
   "source": [
    "x = 1\n",
    "y = 2\n",
    "print(3 * (x == y))"
   ]
  },
  {
   "cell_type": "code",
   "execution_count": 2,
   "id": "5f78f569",
   "metadata": {},
   "outputs": [],
   "source": [
    "import random\n",
    "import torch\n",
    "from torch import nn"
   ]
  },
  {
   "cell_type": "code",
   "execution_count": 2,
   "id": "1aa10c10",
   "metadata": {},
   "outputs": [
    {
     "name": "stdout",
     "output_type": "stream",
     "text": [
      "[0, 3, 2]\n"
     ]
    }
   ],
   "source": [
    "my_list = ['a', 'b', 'c', 'd', 'e']\n",
    "all_indices = range(len(my_list))\n",
    "sample_size = 3\n",
    "sampled_indices = random.sample(all_indices, sample_size)\n",
    "print(sampled_indices)"
   ]
  },
  {
   "cell_type": "code",
   "execution_count": 12,
   "id": "dda3e8f2",
   "metadata": {},
   "outputs": [],
   "source": [
    "class NeuralNet(nn.Module):\n",
    "  def __init__(self, in_dim, hidden_dim, out_dim):\n",
    "    super(NeuralNet, self).__init__()\n",
    "    self.linear1 = nn.Linear(in_dim, hidden_dim)\n",
    "    self.linear2 = nn.Linear(hidden_dim, out_dim)\n",
    "    self.softmax = nn.Softmax(dim=-1)\n",
    "  \n",
    "  def forward(self, normalized_inputs):\n",
    "    normalized_inputs = self.linear1(normalized_inputs)\n",
    "    normalized_inputs = self.linear2(normalized_inputs)\n",
    "    output_probs = self.softmax(normalized_inputs)\n",
    "    return output_probs"
   ]
  },
  {
   "cell_type": "code",
   "execution_count": 13,
   "id": "b27da3fc",
   "metadata": {},
   "outputs": [
    {
     "name": "stdout",
     "output_type": "stream",
     "text": [
      "torch.Size([10, 1])\n",
      "tensor([[1.],\n",
      "        [1.],\n",
      "        [1.],\n",
      "        [1.],\n",
      "        [1.],\n",
      "        [1.],\n",
      "        [1.],\n",
      "        [1.],\n",
      "        [1.],\n",
      "        [1.]], grad_fn=<SoftmaxBackward0>)\n"
     ]
    }
   ],
   "source": [
    "net = NeuralNet(40, 64, 1)\n",
    "t = torch.rand(size=(10, 40))\n",
    "o = net(t)\n",
    "print(o.size())\n",
    "print(o)"
   ]
  },
  {
   "cell_type": "code",
   "execution_count": 5,
   "id": "db66deb2",
   "metadata": {},
   "outputs": [
    {
     "name": "stdout",
     "output_type": "stream",
     "text": [
      "[2, 3, 1]\n"
     ]
    }
   ],
   "source": [
    "r = [1, 2, 3]\n",
    "random.shuffle(r)\n",
    "print(r)"
   ]
  },
  {
   "cell_type": "code",
   "execution_count": 6,
   "id": "d8bda8cd",
   "metadata": {},
   "outputs": [
    {
     "name": "stdout",
     "output_type": "stream",
     "text": [
      "tensor([[0.3452, 0.9166, 0.2036, 0.8587, 0.1148],\n",
      "        [0.3738, 0.0280, 0.4534, 0.7073, 0.6830],\n",
      "        [0.0029, 0.8664, 0.8477, 0.6528, 0.3144],\n",
      "        [0.2225, 0.0706, 0.3197, 0.0487, 0.4688],\n",
      "        [0.8040, 0.3235, 0.1428, 0.6921, 0.6145]])\n"
     ]
    }
   ],
   "source": [
    "t = torch.rand(size=(5, 5))\n",
    "print(t)"
   ]
  },
  {
   "cell_type": "code",
   "execution_count": 11,
   "id": "107ab24c",
   "metadata": {},
   "outputs": [
    {
     "name": "stdout",
     "output_type": "stream",
     "text": [
      "tensor([0.3452, 0.0280, 0.8477, 0.0487, 0.6145])\n"
     ]
    }
   ],
   "source": [
    "i = torch.tensor([0, 1, 2, 3, 4], dtype=torch.long)\n",
    "res = t.gather(dim=1, index=i.unsqueeze(1)).squeeze(1)\n",
    "print(res)"
   ]
  },
  {
   "cell_type": "code",
   "execution_count": 21,
   "id": "94e81dd6",
   "metadata": {},
   "outputs": [
    {
     "name": "stdout",
     "output_type": "stream",
     "text": [
      "[0, 1, 2, 3, 4]\n",
      "[3, 2]\n"
     ]
    }
   ],
   "source": [
    "print(list(range(5)))\n",
    "print(random.sample(range(5), k=2))"
   ]
  },
  {
   "cell_type": "code",
   "execution_count": 23,
   "id": "7db4b82a",
   "metadata": {},
   "outputs": [
    {
     "name": "stdout",
     "output_type": "stream",
     "text": [
      "tensor([[1, 2, 3, 4, 5],\n",
      "        [1, 2, 3, 4, 5],\n",
      "        [1, 2, 3, 4, 5],\n",
      "        [1, 2, 3, 4, 5],\n",
      "        [1, 2, 3, 4, 5]])\n"
     ]
    }
   ],
   "source": [
    "x = torch.tensor([1, 2, 3, 4, 5])\n",
    "print(x.expand(5, -1))"
   ]
  }
 ],
 "metadata": {
  "kernelspec": {
   "display_name": "Python 3",
   "language": "python",
   "name": "python3"
  },
  "language_info": {
   "codemirror_mode": {
    "name": "ipython",
    "version": 3
   },
   "file_extension": ".py",
   "mimetype": "text/x-python",
   "name": "python",
   "nbconvert_exporter": "python",
   "pygments_lexer": "ipython3",
   "version": "3.12.1"
  }
 },
 "nbformat": 4,
 "nbformat_minor": 5
}
