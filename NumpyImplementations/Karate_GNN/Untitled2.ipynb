{
  "nbformat": 4,
  "nbformat_minor": 0,
  "metadata": {
    "colab": {
      "provenance": []
    },
    "kernelspec": {
      "name": "python3",
      "display_name": "Python 3"
    },
    "language_info": {
      "name": "python"
    }
  },
  "cells": [
    {
      "cell_type": "code",
      "execution_count": 2,
      "metadata": {
        "colab": {
          "base_uri": "https://localhost:8080/"
        },
        "id": "rpegxVsvCnTd",
        "outputId": "6f689158-3f89-4fd1-b5a2-daf95c4fb361"
      },
      "outputs": [
        {
          "output_type": "stream",
          "name": "stdout",
          "text": [
            "Collecting torch-geometric\n",
            "  Downloading torch_geometric-2.6.1-py3-none-any.whl.metadata (63 kB)\n",
            "\u001b[?25l     \u001b[90m━━━━━━━━━━━━━━━━━━━━━━━━━━━━━━━━━━━━━━━━\u001b[0m \u001b[32m0.0/63.1 kB\u001b[0m \u001b[31m?\u001b[0m eta \u001b[36m-:--:--\u001b[0m\r\u001b[2K     \u001b[90m━━━━━━━━━━━━━━━━━━━━━━━━━━━━━━━━━━━━━━━━\u001b[0m \u001b[32m63.1/63.1 kB\u001b[0m \u001b[31m2.0 MB/s\u001b[0m eta \u001b[36m0:00:00\u001b[0m\n",
            "\u001b[?25hRequirement already satisfied: aiohttp in /usr/local/lib/python3.11/dist-packages (from torch-geometric) (3.11.14)\n",
            "Requirement already satisfied: fsspec in /usr/local/lib/python3.11/dist-packages (from torch-geometric) (2025.3.0)\n",
            "Requirement already satisfied: jinja2 in /usr/local/lib/python3.11/dist-packages (from torch-geometric) (3.1.6)\n",
            "Requirement already satisfied: numpy in /usr/local/lib/python3.11/dist-packages (from torch-geometric) (2.0.2)\n",
            "Requirement already satisfied: psutil>=5.8.0 in /usr/local/lib/python3.11/dist-packages (from torch-geometric) (5.9.5)\n",
            "Requirement already satisfied: pyparsing in /usr/local/lib/python3.11/dist-packages (from torch-geometric) (3.2.3)\n",
            "Requirement already satisfied: requests in /usr/local/lib/python3.11/dist-packages (from torch-geometric) (2.32.3)\n",
            "Requirement already satisfied: tqdm in /usr/local/lib/python3.11/dist-packages (from torch-geometric) (4.67.1)\n",
            "Requirement already satisfied: aiohappyeyeballs>=2.3.0 in /usr/local/lib/python3.11/dist-packages (from aiohttp->torch-geometric) (2.6.1)\n",
            "Requirement already satisfied: aiosignal>=1.1.2 in /usr/local/lib/python3.11/dist-packages (from aiohttp->torch-geometric) (1.3.2)\n",
            "Requirement already satisfied: attrs>=17.3.0 in /usr/local/lib/python3.11/dist-packages (from aiohttp->torch-geometric) (25.3.0)\n",
            "Requirement already satisfied: frozenlist>=1.1.1 in /usr/local/lib/python3.11/dist-packages (from aiohttp->torch-geometric) (1.5.0)\n",
            "Requirement already satisfied: multidict<7.0,>=4.5 in /usr/local/lib/python3.11/dist-packages (from aiohttp->torch-geometric) (6.2.0)\n",
            "Requirement already satisfied: propcache>=0.2.0 in /usr/local/lib/python3.11/dist-packages (from aiohttp->torch-geometric) (0.3.1)\n",
            "Requirement already satisfied: yarl<2.0,>=1.17.0 in /usr/local/lib/python3.11/dist-packages (from aiohttp->torch-geometric) (1.18.3)\n",
            "Requirement already satisfied: MarkupSafe>=2.0 in /usr/local/lib/python3.11/dist-packages (from jinja2->torch-geometric) (3.0.2)\n",
            "Requirement already satisfied: charset-normalizer<4,>=2 in /usr/local/lib/python3.11/dist-packages (from requests->torch-geometric) (3.4.1)\n",
            "Requirement already satisfied: idna<4,>=2.5 in /usr/local/lib/python3.11/dist-packages (from requests->torch-geometric) (3.10)\n",
            "Requirement already satisfied: urllib3<3,>=1.21.1 in /usr/local/lib/python3.11/dist-packages (from requests->torch-geometric) (2.3.0)\n",
            "Requirement already satisfied: certifi>=2017.4.17 in /usr/local/lib/python3.11/dist-packages (from requests->torch-geometric) (2025.1.31)\n",
            "Downloading torch_geometric-2.6.1-py3-none-any.whl (1.1 MB)\n",
            "\u001b[2K   \u001b[90m━━━━━━━━━━━━━━━━━━━━━━━━━━━━━━━━━━━━━━━━\u001b[0m \u001b[32m1.1/1.1 MB\u001b[0m \u001b[31m22.0 MB/s\u001b[0m eta \u001b[36m0:00:00\u001b[0m\n",
            "\u001b[?25hInstalling collected packages: torch-geometric\n",
            "Successfully installed torch-geometric-2.6.1\n"
          ]
        }
      ],
      "source": [
        "%pip install torch-geometric\n"
      ]
    },
    {
      "cell_type": "code",
      "source": [
        "%pip install networkx\n"
      ],
      "metadata": {
        "colab": {
          "base_uri": "https://localhost:8080/"
        },
        "id": "CEzr1a1JHkcF",
        "outputId": "f8dbb0c8-3a18-48e7-fe72-ae58e6a61db8"
      },
      "execution_count": 23,
      "outputs": [
        {
          "output_type": "stream",
          "name": "stdout",
          "text": [
            "Requirement already satisfied: networkx in /usr/local/lib/python3.11/dist-packages (3.4.2)\n"
          ]
        }
      ]
    },
    {
      "cell_type": "code",
      "source": [
        "import torch_geometric"
      ],
      "metadata": {
        "id": "DUTLH5pYCzIe"
      },
      "execution_count": 3,
      "outputs": []
    },
    {
      "cell_type": "code",
      "source": [
        "from torch_geometric.datasets import TUDataset"
      ],
      "metadata": {
        "id": "sMklXvyIC5Pb"
      },
      "execution_count": 4,
      "outputs": []
    },
    {
      "cell_type": "code",
      "source": [
        "dataset = TUDataset(root='/tmp/NCI1', name='NCI1')"
      ],
      "metadata": {
        "colab": {
          "base_uri": "https://localhost:8080/"
        },
        "id": "Gk-LoKLSDOi1",
        "outputId": "69945a2b-a2b2-4f80-dae4-97d3c7bb6d7e"
      },
      "execution_count": 5,
      "outputs": [
        {
          "output_type": "stream",
          "name": "stderr",
          "text": [
            "Downloading https://www.chrsmrrs.com/graphkerneldatasets/NCI1.zip\n",
            "Processing...\n",
            "Done!\n"
          ]
        }
      ]
    },
    {
      "cell_type": "code",
      "source": [
        "import numpy as np # type: ignore\n",
        "\n",
        "class Softmax():\n",
        "    def forward(self, A):\n",
        "        exp = np.exp(A)\n",
        "        return exp / np.sum(exp, axis=1, keepdims=True)\n",
        "\n",
        "    def backward(self, A, Y):\n",
        "        return A - Y\n",
        "\n",
        "\n",
        "class SumPool():\n",
        "    def forward(self, batch_indices, B, H_in):\n",
        "        H_flattened = np.zeros(shape=(B, H_in.shape[-1]))\n",
        "        np.add.at(H_flattened, batch_indices, H_in)\n",
        "        return H_flattened\n",
        "\n",
        "    def backward(self, batch_indices, dH_flattened):\n",
        "        return dH_flattened[batch_indices]\n",
        "\n",
        "\n",
        "class Linear():\n",
        "    def __init__(self, in_features, out_features, beta1=0.9, beta2=0.98, learning_rate=1e-3, epsilon=1e-7):\n",
        "        self.beta1 = beta1\n",
        "        self.beta2 = beta2\n",
        "        self.learning_rate = learning_rate\n",
        "        self.epsilon = epsilon\n",
        "        self.W = np.random.normal(loc=0, scale=np.sqrt(2. / in_features), size=(out_features, in_features)) # He initialization\n",
        "        self.b = np.zeros(shape=(1, out_features))\n",
        "        self.VdW = np.zeros_like(self.W)\n",
        "        self.Vdb = np.zeros_like(self.b)\n",
        "        self.SdW = np.zeros_like(self.W)\n",
        "        self.Sdb = np.zeros_like(self.b)\n",
        "\n",
        "    def forward(self, A, use_relu=True):\n",
        "        Z = np.matmul(A, self.W.T) + self.b\n",
        "        if use_relu:\n",
        "            return Z, np.maximum(Z, 0)\n",
        "        else:\n",
        "            return Z\n",
        "\n",
        "    def backward(self, A, dA, Z=None, used_relu=True):\n",
        "        # Calculate weight and bias gradients\n",
        "        if not used_relu: # next layer was softmax --> dZ is none\n",
        "            dZ = dA\n",
        "        else: # next layer was not softmax but relu instead --> dA is none\n",
        "            dZ = dA * np.where(Z > 0, 1, 0)\n",
        "        dW = (1. / A.shape[0]) * np.matmul(dZ.T, A)\n",
        "        db = (1. / A.shape[0]) * np.sum(dZ, axis=0, keepdims=True)\n",
        "        dAprev = np.matmul(dZ, self.W)\n",
        "        # Update Adam gradients\n",
        "        self.VdW = self.beta1 * self.VdW + (1. - self.beta1) * dW\n",
        "        self.Vdb = self.beta1 * self.Vdb + (1. - self.beta1) * db\n",
        "        self.SdW = self.beta2 * self.SdW + (1. - self.beta2) * (dW ** 2)\n",
        "        self.Sdb = self.beta2 * self.Sdb + (1. - self.beta2) * (db ** 2)\n",
        "        # Update weights and biases\n",
        "        self.W -= self.learning_rate * self.VdW / (np.sqrt(self.SdW) + self.epsilon)\n",
        "        self.b -= self.learning_rate * self.Vdb / (np.sqrt(self.Sdb) + self.epsilon)\n",
        "        return dAprev\n",
        "\n",
        "\n",
        "class GCN():\n",
        "    def __init__(self, d_in, d_out, beta1=0.9, beta2=0.98, alpha=1e-3, epsilon=1e-7):\n",
        "        self.W = np.random.normal(loc=0, scale=2./(d_in * d_out), size=(d_out, d_in))\n",
        "        self.b = np.zeros(shape=(1, d_out))\n",
        "        self.beta1 = beta1\n",
        "        self.beta2 = beta2\n",
        "        self.alpha = alpha\n",
        "        self.epsilon = epsilon\n",
        "        self.VdW = np.zeros_like(self.W)\n",
        "        self.SdW = np.zeros_like(self.W)\n",
        "        self.Vdb = np.zeros_like(self.b)\n",
        "        self.Sdb = np.zeros_like(self.b)\n",
        "\n",
        "    def forward(self, A_hat, H):\n",
        "        H_prime = np.matmul(A_hat, H)\n",
        "        H_pre = np.matmul(H_prime, self.W.T) + self.b\n",
        "        return H_prime, H_pre, np.maximum(H_pre, 0)\n",
        "\n",
        "    def backward(self, A_hat, H_prime, H_pre, dHnext):\n",
        "        # calculate gradients\n",
        "        dH_pre = dHnext * np.where(H_pre > 0, 1, 0)\n",
        "        dH_prime = np.matmul(dH_pre, self.W)\n",
        "        dW = np.matmul(dH_pre.T, H_prime)\n",
        "        db = np.sum(dH_pre, axis=0, keepdims=True)\n",
        "        dH = np.matmul(A_hat.T, dH_prime)\n",
        "        # update Adam gradients\n",
        "        self.VdW = self.beta1 * self.VdW + (1. - self.beta1) * dW\n",
        "        self.Vdb = self.beta1 * self.Vdb + (1. - self.beta1) * db\n",
        "        self.SdW = self.beta2 * self.SdW + (1. - self.beta2) * (dW ** 2)\n",
        "        self.Sdb = self.beta2 * self.Sdb + (1. - self.beta2) * (db ** 2)\n",
        "        # update weights and biases\n",
        "        self.W -= self.alpha * self.VdW / (np.sqrt(self.SdW) + self.epsilon)\n",
        "        self.b -= self.alpha * self.Vdb / (np.sqrt(self.Sdb) + self.epsilon)\n",
        "        return dH\n"
      ],
      "metadata": {
        "id": "mel48ZzXDdut"
      },
      "execution_count": 118,
      "outputs": []
    },
    {
      "cell_type": "code",
      "source": [
        "class GNN():\n",
        "    def __init__(self):\n",
        "        self.gcn1 = GCN(d_in=34, d_out=64)\n",
        "        self.gcn2 = GCN(d_in=64, d_out=64)\n",
        "        self.sum_pool = SumPool()\n",
        "        self.linear1 = Linear(in_features=64, out_features=32)\n",
        "        self.linear2 = Linear(in_features=32, out_features=2)\n",
        "        self.softmax = Softmax()\n",
        "\n",
        "    def forward(self, batch_indices, batch_size, A_hat, H):\n",
        "        H_prime1, H_pre1, H1 = self.gcn1.forward(A_hat, H)\n",
        "        # print(\"H1: \", H1.shape)\n",
        "        H_prime2, H_pre2, H2 = self.gcn2.forward(A_hat, H1)\n",
        "        # print(\"H2: \", H2.shape)\n",
        "        H_graph = self.sum_pool.forward(batch_indices, batch_size, H2)\n",
        "        # print(\"H_graph: \", H_graph.shape)\n",
        "        Z1, A1 = self.linear1.forward(H_graph, use_relu=True)\n",
        "        # print(\"A1: \", A1.shape)\n",
        "        A2 = self.linear2.forward(A1, use_relu=False)\n",
        "        # print(\"A2: \", A2.shape)\n",
        "        A3 = self.softmax.forward(A2)\n",
        "        # print(\"A3: \", A3.shape)\n",
        "        return (H_prime1, H_pre1, H1), (H_prime2, H_pre2, H2), (H_graph,), (Z1, A1), (A2,), (A3,)\n",
        "\n",
        "    def backward(self, output_tuples, batch_indices, A_hat, H, Y):\n",
        "        (H_prime1, H_pre1, H1), (H_prime2, H_pre2, H2), (H_graph,), (Z1, A1), (A2,), (A3,) = output_tuples\n",
        "        dA2 = A3 - Y\n",
        "        # print(\"dA2: \", dA2.shape)\n",
        "        dA1 = self.linear2.backward(A1, dA2, used_relu=False)\n",
        "        # print(\"dA1: \", dA1.shape)\n",
        "        dH_graph = self.linear1.backward(H_graph, dA1, Z1, used_relu=True)\n",
        "        # print(\"dH_graph: \", dH_graph.shape)\n",
        "        dH2 = self.sum_pool.backward(batch_indices, dH_graph)\n",
        "        # print(\"dH2: \", dH2.shape)\n",
        "        dH1 = self.gcn2.backward(A_hat, H_prime2, H_pre2, dH2)\n",
        "        # print(\"dH1: \", dH1.shape)\n",
        "        dH = self.gcn1.backward(A_hat, H_prime1, H_pre1, dH1)\n",
        "        # print(\"dH: \", dH.shape)\n",
        "\n",
        "\n"
      ],
      "metadata": {
        "id": "FtXK3MWBDfVE"
      },
      "execution_count": 119,
      "outputs": []
    },
    {
      "cell_type": "code",
      "source": [
        "def cross_entropy_loss(A, Y):\n",
        "    loss =  (-1. / A.shape[0]) * np.sum(Y * np.log(np.clip(A, 1e-7, 1-1e-7) + 1e-7), axis=1)\n",
        "    return np.mean(loss)"
      ],
      "metadata": {
        "id": "lY8zheg1Djtk"
      },
      "execution_count": 9,
      "outputs": []
    },
    {
      "cell_type": "code",
      "source": [
        "import networkx as nx\n",
        "G = nx.karate_club_graph()\n",
        "print(f\"Number of nodes: {G.number_of_nodes()}\")\n",
        "print(f\"Number of edges: {G.number_of_edges()}\")\n",
        "print(list(G.nodes))\n",
        "print(list(G.edges))"
      ],
      "metadata": {
        "colab": {
          "base_uri": "https://localhost:8080/"
        },
        "id": "jw98cKTfDs6q",
        "outputId": "fc263fbb-9d8a-48d4-d2d6-1aa0c1e99137"
      },
      "execution_count": 26,
      "outputs": [
        {
          "output_type": "stream",
          "name": "stdout",
          "text": [
            "Number of nodes: 34\n",
            "Number of edges: 78\n",
            "[0, 1, 2, 3, 4, 5, 6, 7, 8, 9, 10, 11, 12, 13, 14, 15, 16, 17, 18, 19, 20, 21, 22, 23, 24, 25, 26, 27, 28, 29, 30, 31, 32, 33]\n",
            "[(0, 1), (0, 2), (0, 3), (0, 4), (0, 5), (0, 6), (0, 7), (0, 8), (0, 10), (0, 11), (0, 12), (0, 13), (0, 17), (0, 19), (0, 21), (0, 31), (1, 2), (1, 3), (1, 7), (1, 13), (1, 17), (1, 19), (1, 21), (1, 30), (2, 3), (2, 7), (2, 8), (2, 9), (2, 13), (2, 27), (2, 28), (2, 32), (3, 7), (3, 12), (3, 13), (4, 6), (4, 10), (5, 6), (5, 10), (5, 16), (6, 16), (8, 30), (8, 32), (8, 33), (9, 33), (13, 33), (14, 32), (14, 33), (15, 32), (15, 33), (18, 32), (18, 33), (19, 33), (20, 32), (20, 33), (22, 32), (22, 33), (23, 25), (23, 27), (23, 29), (23, 32), (23, 33), (24, 25), (24, 27), (24, 31), (25, 31), (26, 29), (26, 33), (27, 33), (28, 31), (28, 33), (29, 32), (29, 33), (30, 32), (30, 33), (31, 32), (31, 33), (32, 33)]\n"
          ]
        }
      ]
    },
    {
      "cell_type": "code",
      "source": [
        "for node in G.nodes(data=True):\n",
        "    print(node)  # (node_id, {'club': faction})"
      ],
      "metadata": {
        "colab": {
          "base_uri": "https://localhost:8080/"
        },
        "id": "JBDR8kYFDvyn",
        "outputId": "ea9578b6-a60e-4a17-cb4f-842416177ba2"
      },
      "execution_count": 27,
      "outputs": [
        {
          "output_type": "stream",
          "name": "stdout",
          "text": [
            "(0, {'club': 'Mr. Hi'})\n",
            "(1, {'club': 'Mr. Hi'})\n",
            "(2, {'club': 'Mr. Hi'})\n",
            "(3, {'club': 'Mr. Hi'})\n",
            "(4, {'club': 'Mr. Hi'})\n",
            "(5, {'club': 'Mr. Hi'})\n",
            "(6, {'club': 'Mr. Hi'})\n",
            "(7, {'club': 'Mr. Hi'})\n",
            "(8, {'club': 'Mr. Hi'})\n",
            "(9, {'club': 'Officer'})\n",
            "(10, {'club': 'Mr. Hi'})\n",
            "(11, {'club': 'Mr. Hi'})\n",
            "(12, {'club': 'Mr. Hi'})\n",
            "(13, {'club': 'Mr. Hi'})\n",
            "(14, {'club': 'Officer'})\n",
            "(15, {'club': 'Officer'})\n",
            "(16, {'club': 'Mr. Hi'})\n",
            "(17, {'club': 'Mr. Hi'})\n",
            "(18, {'club': 'Officer'})\n",
            "(19, {'club': 'Mr. Hi'})\n",
            "(20, {'club': 'Officer'})\n",
            "(21, {'club': 'Mr. Hi'})\n",
            "(22, {'club': 'Officer'})\n",
            "(23, {'club': 'Officer'})\n",
            "(24, {'club': 'Officer'})\n",
            "(25, {'club': 'Officer'})\n",
            "(26, {'club': 'Officer'})\n",
            "(27, {'club': 'Officer'})\n",
            "(28, {'club': 'Officer'})\n",
            "(29, {'club': 'Officer'})\n",
            "(30, {'club': 'Officer'})\n",
            "(31, {'club': 'Officer'})\n",
            "(32, {'club': 'Officer'})\n",
            "(33, {'club': 'Officer'})\n"
          ]
        }
      ]
    },
    {
      "cell_type": "code",
      "source": [
        "labels = [0 if G.nodes[n]['club'] == 'Mr. Hi' else 1 for n in G.nodes()]\n",
        "print(labels)"
      ],
      "metadata": {
        "colab": {
          "base_uri": "https://localhost:8080/"
        },
        "id": "M_Rqiqo9IEey",
        "outputId": "a2f09077-6139-4da5-d990-f2f8bd8ef927"
      },
      "execution_count": 28,
      "outputs": [
        {
          "output_type": "stream",
          "name": "stdout",
          "text": [
            "[0, 0, 0, 0, 0, 0, 0, 0, 0, 1, 0, 0, 0, 0, 1, 1, 0, 0, 1, 0, 1, 0, 1, 1, 1, 1, 1, 1, 1, 1, 1, 1, 1, 1]\n"
          ]
        }
      ]
    },
    {
      "cell_type": "code",
      "source": [
        "for u, v in G.edges():\n",
        "    G[u][v].clear()  # Remove any attributes\n",
        "A = nx.to_numpy_array(G)\n",
        "print(A.shape)  # (34, 34)\n",
        "print(A[:5, :5])  # First 5x5 block"
      ],
      "metadata": {
        "colab": {
          "base_uri": "https://localhost:8080/"
        },
        "id": "drmfUX9xIMjU",
        "outputId": "86fdab83-f26d-4871-be1e-2aff7b5d99de"
      },
      "execution_count": 33,
      "outputs": [
        {
          "output_type": "stream",
          "name": "stdout",
          "text": [
            "(34, 34)\n",
            "[[0. 1. 1. 1. 1.]\n",
            " [1. 0. 1. 1. 0.]\n",
            " [1. 1. 0. 1. 0.]\n",
            " [1. 1. 1. 0. 0.]\n",
            " [1. 0. 0. 0. 0.]]\n"
          ]
        }
      ]
    },
    {
      "cell_type": "code",
      "source": [
        "print(np.eye(34))"
      ],
      "metadata": {
        "colab": {
          "base_uri": "https://localhost:8080/"
        },
        "id": "9mDRuJzvI-rH",
        "outputId": "66eca267-a696-4d28-a2e0-f57133dbeeee"
      },
      "execution_count": 34,
      "outputs": [
        {
          "output_type": "stream",
          "name": "stdout",
          "text": [
            "[[1. 0. 0. ... 0. 0. 0.]\n",
            " [0. 1. 0. ... 0. 0. 0.]\n",
            " [0. 0. 1. ... 0. 0. 0.]\n",
            " ...\n",
            " [0. 0. 0. ... 1. 0. 0.]\n",
            " [0. 0. 0. ... 0. 1. 0.]\n",
            " [0. 0. 0. ... 0. 0. 1.]]\n"
          ]
        }
      ]
    },
    {
      "cell_type": "code",
      "source": [
        "A += np.eye(34)\n",
        "D_inv_sqrt = np.diag(1. / np.sqrt(np.diag(np.sum(A, axis=1)).diagonal() + 1e-10))\n",
        "A_hat = np.matmul(np.matmul(D_inv_sqrt, A), D_inv_sqrt)\n",
        "print(A_hat[:5, :5])\n"
      ],
      "metadata": {
        "colab": {
          "base_uri": "https://localhost:8080/"
        },
        "id": "4xpPZmyCJCTS",
        "outputId": "336fd24e-c092-41b3-bf7c-a23ced8130e8"
      },
      "execution_count": 41,
      "outputs": [
        {
          "output_type": "stream",
          "name": "stdout",
          "text": [
            "[[0.27272727 0.05504819 0.05330018 0.06154575 0.07106691]\n",
            " [0.05504819 0.4        0.06454972 0.0745356  0.        ]\n",
            " [0.05330018 0.06454972 0.375      0.07216878 0.        ]\n",
            " [0.06154575 0.0745356  0.07216878 0.5        0.        ]\n",
            " [0.07106691 0.         0.         0.         0.66666667]]\n"
          ]
        }
      ]
    },
    {
      "cell_type": "code",
      "source": [
        "H = np.eye(34) # treat each node as its own feature, since this dataset doesn't have any incorporated node features\n",
        "print(np.array(G.edges()).shape)"
      ],
      "metadata": {
        "colab": {
          "base_uri": "https://localhost:8080/"
        },
        "id": "NFqv0I7_JzXW",
        "outputId": "6886857b-2614-4538-e6c6-650cf6abe6e2"
      },
      "execution_count": 48,
      "outputs": [
        {
          "output_type": "stream",
          "name": "stdout",
          "text": [
            "(78, 2)\n"
          ]
        }
      ]
    },
    {
      "cell_type": "code",
      "source": [
        "model = GNN()\n",
        "batch_indices = np.zeros(shape=(34,), dtype=int)\n",
        "label = np.array([[0,1]])"
      ],
      "metadata": {
        "id": "nStsh-s-KGBH"
      },
      "execution_count": 120,
      "outputs": []
    },
    {
      "cell_type": "code",
      "source": [
        "output_tuples = model.forward(batch_indices, 1, A_hat, H)\n",
        "model.backward(output_tuples, batch_indices, A_hat, H, label)\n",
        "print(output_tuples[-1][0])"
      ],
      "metadata": {
        "colab": {
          "base_uri": "https://localhost:8080/"
        },
        "id": "Xmx9nJGiK41Q",
        "outputId": "166ca119-0d5e-490a-ef9b-8597aa845221"
      },
      "execution_count": 115,
      "outputs": [
        {
          "output_type": "stream",
          "name": "stdout",
          "text": [
            "H1:  (34, 64)\n",
            "H2:  (34, 64)\n",
            "H_graph:  (1, 64)\n",
            "A1:  (1, 32)\n",
            "A2:  (1, 2)\n",
            "A3:  (1, 2)\n",
            "dA2:  (1, 2)\n",
            "dA1:  (1, 32)\n",
            "dH_graph:  (1, 64)\n",
            "dH2:  (34, 64)\n",
            "dH1:  (34, 64)\n",
            "dH:  (34, 34)\n",
            "[[0.50000399 0.49999601]]\n"
          ]
        }
      ]
    },
    {
      "cell_type": "code",
      "source": [
        "for _ in range(20):\n",
        "  output_tuples = model.forward(batch_indices, 1, A_hat, H)\n",
        "  model.backward(output_tuples, batch_indices, A_hat, H, label)\n",
        "  print(\"OUTPUT: \", output_tuples[-1][0])\n",
        "  print(\"LABEL: \", label)"
      ],
      "metadata": {
        "colab": {
          "base_uri": "https://localhost:8080/"
        },
        "id": "c5x5Dt1cdZZs",
        "outputId": "cd02f9af-c69e-4cbf-d281-da6254c39082"
      },
      "execution_count": 121,
      "outputs": [
        {
          "output_type": "stream",
          "name": "stdout",
          "text": [
            "OUTPUT:  [[0.49999782 0.50000218]]\n",
            "LABEL:  [[0 1]]\n",
            "OUTPUT:  [[0.48247982 0.51752018]]\n",
            "LABEL:  [[0 1]]\n",
            "OUTPUT:  [[0.45539582 0.54460418]]\n",
            "LABEL:  [[0 1]]\n",
            "OUTPUT:  [[0.42113153 0.57886847]]\n",
            "LABEL:  [[0 1]]\n",
            "OUTPUT:  [[0.37663024 0.62336976]]\n",
            "LABEL:  [[0 1]]\n",
            "OUTPUT:  [[0.32146436 0.67853564]]\n",
            "LABEL:  [[0 1]]\n",
            "OUTPUT:  [[0.25978683 0.74021317]]\n",
            "LABEL:  [[0 1]]\n",
            "OUTPUT:  [[0.19530966 0.80469034]]\n",
            "LABEL:  [[0 1]]\n",
            "OUTPUT:  [[0.135444 0.864556]]\n",
            "LABEL:  [[0 1]]\n",
            "OUTPUT:  [[0.08414489 0.91585511]]\n",
            "LABEL:  [[0 1]]\n",
            "OUTPUT:  [[0.04701864 0.95298136]]\n",
            "LABEL:  [[0 1]]\n",
            "OUTPUT:  [[0.02418126 0.97581874]]\n",
            "LABEL:  [[0 1]]\n",
            "OUTPUT:  [[0.01156778 0.98843222]]\n",
            "LABEL:  [[0 1]]\n",
            "OUTPUT:  [[0.00527271 0.99472729]]\n",
            "LABEL:  [[0 1]]\n",
            "OUTPUT:  [[0.00234406 0.99765594]]\n",
            "LABEL:  [[0 1]]\n",
            "OUTPUT:  [[0.0010332 0.9989668]]\n",
            "LABEL:  [[0 1]]\n",
            "OUTPUT:  [[4.57677749e-04 9.99542322e-01]]\n",
            "LABEL:  [[0 1]]\n",
            "OUTPUT:  [[2.06170272e-04 9.99793830e-01]]\n",
            "LABEL:  [[0 1]]\n",
            "OUTPUT:  [[9.51556607e-05 9.99904844e-01]]\n",
            "LABEL:  [[0 1]]\n",
            "OUTPUT:  [[4.52190969e-05 9.99954781e-01]]\n",
            "LABEL:  [[0 1]]\n"
          ]
        }
      ]
    }
  ]
}